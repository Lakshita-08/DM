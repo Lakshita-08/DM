{
 "cells": [
  {
   "cell_type": "code",
   "execution_count": 1,
   "metadata": {
    "execution": {
     "iopub.execute_input": "2022-03-04T18:49:40.184961Z",
     "iopub.status.busy": "2022-03-04T18:49:40.184601Z",
     "iopub.status.idle": "2022-03-04T18:49:40.215511Z",
     "shell.execute_reply": "2022-03-04T18:49:40.214171Z",
     "shell.execute_reply.started": "2022-03-04T18:49:40.184874Z"
    }
   },
   "outputs": [],
   "source": [
    "import math\n",
    "import pandas as pd\n",
    "import numpy as np"
   ]
  },
  {
   "cell_type": "code",
   "execution_count": 2,
   "metadata": {
    "execution": {
     "iopub.execute_input": "2022-03-04T18:49:40.217447Z",
     "iopub.status.busy": "2022-03-04T18:49:40.217000Z",
     "iopub.status.idle": "2022-03-04T18:49:40.284668Z",
     "shell.execute_reply": "2022-03-04T18:49:40.283852Z",
     "shell.execute_reply.started": "2022-03-04T18:49:40.217416Z"
    }
   },
   "outputs": [],
   "source": [
    "data = pd.read_csv(\"../input/amazon-edited-stock-price/Amazon_new.csv\")\n",
    "data"
   ]
  },
  {
   "cell_type": "code",
   "execution_count": 3,
   "metadata": {
    "execution": {
     "iopub.execute_input": "2022-03-04T18:49:40.287011Z",
     "iopub.status.busy": "2022-03-04T18:49:40.286382Z",
     "iopub.status.idle": "2022-03-04T18:49:40.310662Z",
     "shell.execute_reply": "2022-03-04T18:49:40.310054Z",
     "shell.execute_reply.started": "2022-03-04T18:49:40.286936Z"
    }
   },
   "outputs": [],
   "source": [
    "data1=data.head(204)\n",
    "data1"
   ]
  },
  {
   "cell_type": "code",
   "execution_count": 4,
   "metadata": {
    "execution": {
     "iopub.execute_input": "2022-03-04T18:49:40.312592Z",
     "iopub.status.busy": "2022-03-04T18:49:40.312113Z",
     "iopub.status.idle": "2022-03-04T18:49:40.341539Z",
     "shell.execute_reply": "2022-03-04T18:49:40.340624Z",
     "shell.execute_reply.started": "2022-03-04T18:49:40.312552Z"
    }
   },
   "outputs": [],
   "source": [
    "data1=data1.sort_values('Volume', ascending=[True])\n",
    "data1"
   ]
  },
  {
   "cell_type": "code",
   "execution_count": 5,
   "metadata": {
    "execution": {
     "iopub.execute_input": "2022-03-04T18:49:40.343121Z",
     "iopub.status.busy": "2022-03-04T18:49:40.342895Z",
     "iopub.status.idle": "2022-03-04T18:49:40.355010Z",
     "shell.execute_reply": "2022-03-04T18:49:40.354225Z",
     "shell.execute_reply.started": "2022-03-04T18:49:40.343094Z"
    }
   },
   "outputs": [],
   "source": [
    "dfmean=data1[['Volume']]\n",
    "dfmean"
   ]
  },
  {
   "cell_type": "code",
   "execution_count": 6,
   "metadata": {
    "execution": {
     "iopub.execute_input": "2022-03-04T18:49:40.357172Z",
     "iopub.status.busy": "2022-03-04T18:49:40.356255Z",
     "iopub.status.idle": "2022-03-04T18:49:40.376343Z",
     "shell.execute_reply": "2022-03-04T18:49:40.375479Z",
     "shell.execute_reply.started": "2022-03-04T18:49:40.357125Z"
    }
   },
   "outputs": [],
   "source": [
    "dfmean['index'] = range(0,len(dfmean))\n",
    "dfmean.set_index('index', inplace=True)\n",
    "dfmean"
   ]
  },
  {
   "cell_type": "code",
   "execution_count": 7,
   "metadata": {
    "execution": {
     "iopub.execute_input": "2022-03-04T18:49:40.378491Z",
     "iopub.status.busy": "2022-03-04T18:49:40.378075Z",
     "iopub.status.idle": "2022-03-04T18:49:40.469506Z",
     "shell.execute_reply": "2022-03-04T18:49:40.468712Z",
     "shell.execute_reply.started": "2022-03-04T18:49:40.378440Z"
    }
   },
   "outputs": [],
   "source": [
    "for i in range(0,len(dfmean),5):\n",
    "    mean = np.mean(dfmean.iloc[i:i+5])\n",
    "    if(i+5<=len(dfmean)):\n",
    "        k=i+5\n",
    "    else:\n",
    "        k=len(dfmean)\n",
    "    for j in range(i,k):\n",
    "        dfmean.iloc[j] = mean\n",
    "        \n",
    "dfmean"
   ]
  },
  {
   "cell_type": "code",
   "execution_count": 8,
   "metadata": {
    "execution": {
     "iopub.execute_input": "2022-03-04T18:49:40.470893Z",
     "iopub.status.busy": "2022-03-04T18:49:40.470630Z",
     "iopub.status.idle": "2022-03-04T18:49:40.481904Z",
     "shell.execute_reply": "2022-03-04T18:49:40.480936Z",
     "shell.execute_reply.started": "2022-03-04T18:49:40.470865Z"
    }
   },
   "outputs": [],
   "source": [
    "dfmedian=data1[['Volume']]\n",
    "dfmedian"
   ]
  },
  {
   "cell_type": "code",
   "execution_count": 9,
   "metadata": {
    "execution": {
     "iopub.execute_input": "2022-03-04T18:49:40.483651Z",
     "iopub.status.busy": "2022-03-04T18:49:40.483404Z",
     "iopub.status.idle": "2022-03-04T18:49:40.498051Z",
     "shell.execute_reply": "2022-03-04T18:49:40.497409Z",
     "shell.execute_reply.started": "2022-03-04T18:49:40.483624Z"
    }
   },
   "outputs": [],
   "source": [
    "dfmedian['index'] = range(0,len(dfmedian))\n",
    "dfmedian.set_index('index', inplace=True)\n",
    "dfmedian"
   ]
  },
  {
   "cell_type": "code",
   "execution_count": 10,
   "metadata": {
    "execution": {
     "iopub.execute_input": "2022-03-04T18:49:40.500411Z",
     "iopub.status.busy": "2022-03-04T18:49:40.500195Z",
     "iopub.status.idle": "2022-03-04T18:49:40.538604Z",
     "shell.execute_reply": "2022-03-04T18:49:40.537740Z",
     "shell.execute_reply.started": "2022-03-04T18:49:40.500386Z"
    }
   },
   "outputs": [],
   "source": [
    "for i in range(0,len(dfmedian),5):\n",
    "    med = np.median(dfmedian.iloc[i:i+5])\n",
    "    if(i+5<=len(dfmedian)):\n",
    "        k=i+5\n",
    "    else:\n",
    "        k=len(dfmedian)\n",
    "    for j in range(i,k):\n",
    "        dfmedian.iloc[j] = med\n",
    "        \n",
    "dfmedian"
   ]
  },
  {
   "cell_type": "code",
   "execution_count": 11,
   "metadata": {
    "execution": {
     "iopub.execute_input": "2022-03-04T18:49:40.540236Z",
     "iopub.status.busy": "2022-03-04T18:49:40.539933Z",
     "iopub.status.idle": "2022-03-04T18:49:40.554250Z",
     "shell.execute_reply": "2022-03-04T18:49:40.553673Z",
     "shell.execute_reply.started": "2022-03-04T18:49:40.540196Z"
    }
   },
   "outputs": [],
   "source": [
    "dfbound=data1[['Volume']]\n",
    "dfbound['index'] = range(0,len(dfbound))\n",
    "dfbound.set_index('index', inplace=True)\n",
    "dfbound"
   ]
  },
  {
   "cell_type": "code",
   "execution_count": 12,
   "metadata": {
    "execution": {
     "iopub.execute_input": "2022-03-04T18:49:40.555861Z",
     "iopub.status.busy": "2022-03-04T18:49:40.555280Z",
     "iopub.status.idle": "2022-03-04T18:49:40.750289Z",
     "shell.execute_reply": "2022-03-04T18:49:40.749487Z",
     "shell.execute_reply.started": "2022-03-04T18:49:40.555827Z"
    }
   },
   "outputs": [],
   "source": [
    "for i in range(0,len(dfbound),5):\n",
    "    minimum = np.min(dfbound.iloc[i:i+5])\n",
    "    maximum= np.max(dfbound.iloc[i:i+5])\n",
    "    if(i+5<=len(dfbound)):\n",
    "        k=i+5\n",
    "    else:\n",
    "        k=len(dfbound)\n",
    "    for j in range(i,k):\n",
    "        diff1=dfbound.iloc[j] - minimum\n",
    "        diff2=maximum - dfbound.iloc[j]\n",
    "        if int(diff1)<int(diff2):\n",
    "            dfbound.iloc[j]=minimum\n",
    "        else:\n",
    "            dfbound.iloc[j]=maximum"
   ]
  },
  {
   "cell_type": "code",
   "execution_count": 13,
   "metadata": {
    "execution": {
     "iopub.execute_input": "2022-03-04T18:49:40.752172Z",
     "iopub.status.busy": "2022-03-04T18:49:40.751778Z",
     "iopub.status.idle": "2022-03-04T18:49:40.763348Z",
     "shell.execute_reply": "2022-03-04T18:49:40.762276Z",
     "shell.execute_reply.started": "2022-03-04T18:49:40.752127Z"
    }
   },
   "outputs": [],
   "source": [
    "dfbound"
   ]
  }
 ],
 "metadata": {
  "kernelspec": {
   "display_name": "Python 3 (ipykernel)",
   "language": "python",
   "name": "python3"
  },
  "language_info": {
   "codemirror_mode": {
    "name": "ipython",
    "version": 3
   },
   "file_extension": ".py",
   "mimetype": "text/x-python",
   "name": "python",
   "nbconvert_exporter": "python",
   "pygments_lexer": "ipython3",
   "version": "3.7.12"
  }
 },
 "nbformat": 4,
 "nbformat_minor": 4
}
