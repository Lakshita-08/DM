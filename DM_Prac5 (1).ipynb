{
 "cells": [
  {
   "cell_type": "code",
   "execution_count": 1,
   "metadata": {
    "execution": {
     "iopub.execute_input": "2022-03-10T17:39:00.432524Z",
     "iopub.status.busy": "2022-03-10T17:39:00.431657Z",
     "iopub.status.idle": "2022-03-10T17:39:00.448362Z",
     "shell.execute_reply": "2022-03-10T17:39:00.447606Z",
     "shell.execute_reply.started": "2022-03-10T17:39:00.432471Z"
    }
   },
   "outputs": [],
   "source": [
    "import numpy as np\n",
    "import math"
   ]
  },
  {
   "cell_type": "code",
   "execution_count": 2,
   "metadata": {
    "execution": {
     "iopub.execute_input": "2022-03-10T17:39:00.449960Z",
     "iopub.status.busy": "2022-03-10T17:39:00.449510Z",
     "iopub.status.idle": "2022-03-10T17:39:00.462328Z",
     "shell.execute_reply": "2022-03-10T17:39:00.461586Z",
     "shell.execute_reply.started": "2022-03-10T17:39:00.449917Z"
    }
   },
   "outputs": [],
   "source": [
    "# defining the 5 and 95 percentile \n",
    "# defining min and max values\n",
    "\n",
    "min_ = -351976.00\n",
    "max_ = 4700896.50"
   ]
  },
  {
   "cell_type": "code",
   "execution_count": 3,
   "metadata": {
    "execution": {
     "iopub.execute_input": "2022-03-10T17:39:00.463903Z",
     "iopub.status.busy": "2022-03-10T17:39:00.463524Z",
     "iopub.status.idle": "2022-03-10T17:39:00.475295Z",
     "shell.execute_reply": "2022-03-10T17:39:00.474272Z",
     "shell.execute_reply.started": "2022-03-10T17:39:00.463871Z"
    }
   },
   "outputs": [],
   "source": [
    "low = -159876.00\n",
    "high = 1838761.00"
   ]
  },
  {
   "cell_type": "code",
   "execution_count": 4,
   "metadata": {
    "execution": {
     "iopub.execute_input": "2022-03-10T17:39:00.477843Z",
     "iopub.status.busy": "2022-03-10T17:39:00.477532Z",
     "iopub.status.idle": "2022-03-10T17:39:00.487978Z",
     "shell.execute_reply": "2022-03-10T17:39:00.487176Z",
     "shell.execute_reply.started": "2022-03-10T17:39:00.477811Z"
    }
   },
   "outputs": [
    {
     "name": "stdout",
     "output_type": "stream",
     "text": [
      "6\n",
      "7\n",
      "7\n"
     ]
    }
   ],
   "source": [
    "msd_low  = len(str(abs(int(low))))\n",
    "msd_high = len(str(abs(int(high))))   \n",
    "\n",
    "print(msd_low)\n",
    "print(msd_high)\n",
    "\n",
    "d = max(msd_low,msd_high) # msd\n",
    "print(d)\n",
    "\n",
    "m = 10**(d-1)\n",
    "m_min = 10**(msd_low-1)\n",
    "m_max = 10**(msd_high-1)"
   ]
  },
  {
   "cell_type": "code",
   "execution_count": 5,
   "metadata": {
    "execution": {
     "iopub.execute_input": "2022-03-10T17:39:00.489574Z",
     "iopub.status.busy": "2022-03-10T17:39:00.489158Z",
     "iopub.status.idle": "2022-03-10T17:39:00.500095Z",
     "shell.execute_reply": "2022-03-10T17:39:00.499314Z",
     "shell.execute_reply.started": "2022-03-10T17:39:00.489540Z"
    }
   },
   "outputs": [
    {
     "name": "stdout",
     "output_type": "stream",
     "text": [
      "-1000000\n",
      "2000000\n"
     ]
    }
   ],
   "source": [
    "# rounding off to most significant digits and finding low' and high'\n",
    "\n",
    "low_ = m*(math.floor(low/m))\n",
    "high_ = m*(math.ceil(high/m))\n",
    "\n",
    "print(low_)\n",
    "print(high_)\n"
   ]
  },
  {
   "cell_type": "code",
   "execution_count": 6,
   "metadata": {
    "execution": {
     "iopub.execute_input": "2022-03-10T17:39:00.501766Z",
     "iopub.status.busy": "2022-03-10T17:39:00.501357Z",
     "iopub.status.idle": "2022-03-10T17:39:00.513794Z",
     "shell.execute_reply": "2022-03-10T17:39:00.512722Z",
     "shell.execute_reply.started": "2022-03-10T17:39:00.501732Z"
    }
   },
   "outputs": [
    {
     "name": "stdout",
     "output_type": "stream",
     "text": [
      "3\n"
     ]
    }
   ],
   "source": [
    "r = int((high_-low_)/m)\n",
    "print(r)"
   ]
  },
  {
   "cell_type": "code",
   "execution_count": 7,
   "metadata": {
    "execution": {
     "iopub.execute_input": "2022-03-10T17:39:00.515448Z",
     "iopub.status.busy": "2022-03-10T17:39:00.515110Z",
     "iopub.status.idle": "2022-03-10T17:39:00.527029Z",
     "shell.execute_reply": "2022-03-10T17:39:00.526064Z",
     "shell.execute_reply.started": "2022-03-10T17:39:00.515402Z"
    }
   },
   "outputs": [
    {
     "name": "stdout",
     "output_type": "stream",
     "text": [
      "[[-1000000, 0], [0, 1000000], [1000000, 2000000]]\n"
     ]
    }
   ],
   "source": [
    "if r==2 or r==4 or r==8:\n",
    "    drange  = high_ - low_\n",
    "    w = drange // 4\n",
    "    partition = []\n",
    "    for i in range(1,5):\n",
    "        partition.append([low_ + w*(i-1),low_ + w*(i)])\n",
    "    print(partition)\n",
    "elif r==3 or r==6 or r==7 or r==9:\n",
    "    drange  = high_ - low_\n",
    "    w = drange // 3\n",
    "    partition = []\n",
    "    for i in range(1,4):\n",
    "        partition.append([low_ + w*(i-1),low_ + w*(i)])\n",
    "    print(partition)\n",
    "else:\n",
    "    drange = high_ - low_\n",
    "    w = drange // 5\n",
    "    partition = []\n",
    "    for i in range(1,6):\n",
    "        partition.append([low_ + w*(i-1),low_ + w*(i)])\n",
    "    print(partition)    \n",
    "    \n",
    "    \n",
    "    \n",
    "    "
   ]
  },
  {
   "cell_type": "code",
   "execution_count": 8,
   "metadata": {
    "execution": {
     "iopub.execute_input": "2022-03-10T17:39:00.528955Z",
     "iopub.status.busy": "2022-03-10T17:39:00.528177Z",
     "iopub.status.idle": "2022-03-10T17:39:00.543168Z",
     "shell.execute_reply": "2022-03-10T17:39:00.542468Z",
     "shell.execute_reply.started": "2022-03-10T17:39:00.528904Z"
    }
   },
   "outputs": [],
   "source": [
    "# partition[0][0] = [2,2]\n",
    "# print(partition)"
   ]
  },
  {
   "cell_type": "code",
   "execution_count": 9,
   "metadata": {
    "execution": {
     "iopub.execute_input": "2022-03-10T17:39:00.545376Z",
     "iopub.status.busy": "2022-03-10T17:39:00.544411Z",
     "iopub.status.idle": "2022-03-10T17:39:00.559773Z",
     "shell.execute_reply": "2022-03-10T17:39:00.558960Z",
     "shell.execute_reply.started": "2022-03-10T17:39:00.545320Z"
    }
   },
   "outputs": [],
   "source": [
    "# now checking for if the min and max values are covered or not\n",
    "\n",
    "minimum_i = partition[0][0]\n",
    "maximum_i = partition[len(partition)-1][1]\n",
    "\n",
    "val = partition[0][1]\n",
    "\n",
    "\n",
    "if min_ < minimum_i :\n",
    "    partition.insert(0,[m_min*(math.floor(min_/m_min)),minimum_i])\n",
    "else:\n",
    "    partition[0] = [m_min*(math.floor(min_/m_min)),val]\n",
    "    \n",
    "    \n",
    "if max_ > maximum_i:\n",
    "    partition.append([maximum_i,m_max*(math.ceil(max_/m_max))])"
   ]
  },
  {
   "cell_type": "code",
   "execution_count": 10,
   "metadata": {
    "execution": {
     "iopub.execute_input": "2022-03-10T17:39:00.561894Z",
     "iopub.status.busy": "2022-03-10T17:39:00.561376Z",
     "iopub.status.idle": "2022-03-10T17:39:00.575926Z",
     "shell.execute_reply": "2022-03-10T17:39:00.574942Z",
     "shell.execute_reply.started": "2022-03-10T17:39:00.561858Z"
    }
   },
   "outputs": [
    {
     "name": "stdout",
     "output_type": "stream",
     "text": [
      "[[-400000, 0], [0, 1000000], [1000000, 2000000], [2000000, 5000000]]\n"
     ]
    }
   ],
   "source": [
    "# parititon at level 1\n",
    "print(partition)\n",
    "\n"
   ]
  },
  {
   "cell_type": "code",
   "execution_count": 11,
   "metadata": {
    "execution": {
     "iopub.execute_input": "2022-03-10T17:39:00.607382Z",
     "iopub.status.busy": "2022-03-10T17:39:00.606451Z",
     "iopub.status.idle": "2022-03-10T17:39:00.627889Z",
     "shell.execute_reply": "2022-03-10T17:39:00.626488Z",
     "shell.execute_reply.started": "2022-03-10T17:39:00.607325Z"
    }
   },
   "outputs": [
    {
     "name": "stdout",
     "output_type": "stream",
     "text": [
      "Partiton for depth = 3\n",
      "[-400000, 0] -> [[-400000, -300000], [-300000, -200000], [-200000, -100000], [-100000, 0]]\n",
      "[-400000, -300000] -> [[-400000, -380000], [-380000, -360000], [-360000, -340000], [-340000, -320000], [-320000, -300000]]\n",
      "[-300000, -200000] -> [[-300000, -280000], [-280000, -260000], [-260000, -240000], [-240000, -220000], [-220000, -200000]]\n",
      "[-200000, -100000] -> [[-200000, -180000], [-180000, -160000], [-160000, -140000], [-140000, -120000], [-120000, -100000]]\n",
      "[-100000, 0] -> [[-100000, -80000], [-80000, -60000], [-60000, -40000], [-40000, -20000], [-20000, 0]]\n",
      "[0, 1000000] -> [[0, 200000], [200000, 400000], [400000, 600000], [600000, 800000], [800000, 1000000]]\n",
      "[0, 200000] -> [[0, 50000], [50000, 100000], [100000, 150000], [150000, 200000]]\n",
      "[200000, 400000] -> [[200000, 250000], [250000, 300000], [300000, 350000], [350000, 400000]]\n",
      "[400000, 600000] -> [[400000, 450000], [450000, 500000], [500000, 550000], [550000, 600000]]\n",
      "[600000, 800000] -> [[600000, 650000], [650000, 700000], [700000, 750000], [750000, 800000]]\n",
      "[800000, 1000000] -> [[800000, 840000], [840000, 880000], [880000, 920000], [920000, 960000], [960000, 1000000]]\n",
      "[1000000, 2000000] -> [[1000000, 1200000], [1200000, 1400000], [1400000, 1600000], [1600000, 1800000], [1800000, 2000000]]\n",
      "[1000000, 1200000] -> [[1000000, 1040000], [1040000, 1080000], [1080000, 1120000], [1120000, 1160000], [1160000, 1200000]]\n",
      "[1200000, 1400000] -> [[1200000, 1240000], [1240000, 1280000], [1280000, 1320000], [1320000, 1360000], [1360000, 1400000]]\n",
      "[1400000, 1600000] -> [[1400000, 1440000], [1440000, 1480000], [1480000, 1520000], [1520000, 1560000], [1560000, 1600000]]\n",
      "[1600000, 1800000] -> [[1600000, 1640000], [1640000, 1680000], [1680000, 1720000], [1720000, 1760000], [1760000, 1800000]]\n",
      "[1800000, 2000000] -> [[1800000, 1840000], [1840000, 1880000], [1880000, 1920000], [1920000, 1960000], [1960000, 2000000]]\n",
      "[2000000, 5000000] -> [[2000000, 3000000], [3000000, 4000000], [4000000, 5000000]]\n",
      "[2000000, 3000000] -> [[2000000, 2200000], [2200000, 2400000], [2400000, 2600000], [2600000, 2800000], [2800000, 3000000]]\n",
      "[3000000, 4000000] -> [[3000000, 3200000], [3200000, 3400000], [3400000, 3600000], [3600000, 3800000], [3800000, 4000000]]\n",
      "[4000000, 5000000] -> [[4000000, 4200000], [4200000, 4400000], [4400000, 4600000], [4600000, 4800000], [4800000, 5000000]]\n"
     ]
    }
   ],
   "source": [
    "ans = []\n",
    "dep=3\n",
    "print(\"Partiton for depth =\",dep)\n",
    "\n",
    "def split_part(p):\n",
    "    max_len = max([len(str(abs(p[0]))),len(str(abs(p[1])))])-1\n",
    "    r = (p[1]-p[0]) // 10**max_len\n",
    "    if r==2 or r==4 or r==8:\n",
    "        drange = p[1]-p[0]\n",
    "        w = drange//4\n",
    "        partition = []\n",
    "        for i in range(1,5):\n",
    "            partition.append([p[0]+w*(i-1),p[0]+w*(i)])\n",
    "    elif r==3 or r==6 or r==7 or r==9:\n",
    "        drange = p[1]-p[0]\n",
    "        w = drange // 3\n",
    "        partition = []\n",
    "        for i in range(1,4):\n",
    "            partition.append([p[0]+w*(i-1),p[0]+w*(i)])  \n",
    "    else:\n",
    "        drange = p[1]-p[0]\n",
    "        w = drange // 5\n",
    "        partition = []\n",
    "        for i in range(1,6):\n",
    "            partition.append([p[0]+w*(i-1),p[0]+w*(i)])\n",
    "        \n",
    "    return partition\n",
    "\n",
    "\n",
    "\n",
    "def chg(depth,rangeArr):\n",
    "    if depth -1 == 0:\n",
    "        return\n",
    "    temp = []\n",
    "    for i in rangeArr:\n",
    "        t = split_part(i)\n",
    "        print(i,\"->\",t)\n",
    "        temp.append(t)\n",
    "        chg(depth-1,t)\n",
    "    ans.append(temp)\n",
    "   \n",
    "chg(3,partition)"
   ]
  },
  {
   "cell_type": "markdown",
   "metadata": {},
   "source": [
    "# Conclusion"
   ]
  },
  {
   "cell_type": "markdown",
   "metadata": {},
   "source": [
    "In this practical we learn that we can use this Natural Partitioning i.e 3-4-5 rule for data discretization. We can convert continuous values of an attribute into categorical data or partitions."
   ]
  },
  {
   "cell_type": "code",
   "execution_count": null,
   "metadata": {},
   "outputs": [],
   "source": []
  }
 ],
 "metadata": {
  "kernelspec": {
   "display_name": "Python 3",
   "language": "python",
   "name": "python3"
  },
  "language_info": {
   "codemirror_mode": {
    "name": "ipython",
    "version": 3
   },
   "file_extension": ".py",
   "mimetype": "text/x-python",
   "name": "python",
   "nbconvert_exporter": "python",
   "pygments_lexer": "ipython3",
   "version": "3.8.5"
  }
 },
 "nbformat": 4,
 "nbformat_minor": 4
}
