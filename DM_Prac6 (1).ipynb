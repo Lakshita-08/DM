{
 "cells": [
  {
   "cell_type": "code",
   "execution_count": 1,
   "metadata": {},
   "outputs": [
    {
     "data": {
      "text/html": [
       "<div>\n",
       "<style scoped>\n",
       "    .dataframe tbody tr th:only-of-type {\n",
       "        vertical-align: middle;\n",
       "    }\n",
       "\n",
       "    .dataframe tbody tr th {\n",
       "        vertical-align: top;\n",
       "    }\n",
       "\n",
       "    .dataframe thead th {\n",
       "        text-align: right;\n",
       "    }\n",
       "</style>\n",
       "<table border=\"1\" class=\"dataframe\">\n",
       "  <thead>\n",
       "    <tr style=\"text-align: right;\">\n",
       "      <th></th>\n",
       "      <th>SBP</th>\n",
       "      <th>DBP</th>\n",
       "    </tr>\n",
       "  </thead>\n",
       "  <tbody>\n",
       "    <tr>\n",
       "      <th>0</th>\n",
       "      <td>126</td>\n",
       "      <td>78</td>\n",
       "    </tr>\n",
       "    <tr>\n",
       "      <th>1</th>\n",
       "      <td>128</td>\n",
       "      <td>80</td>\n",
       "    </tr>\n",
       "    <tr>\n",
       "      <th>2</th>\n",
       "      <td>128</td>\n",
       "      <td>82</td>\n",
       "    </tr>\n",
       "    <tr>\n",
       "      <th>3</th>\n",
       "      <td>130</td>\n",
       "      <td>82</td>\n",
       "    </tr>\n",
       "    <tr>\n",
       "      <th>4</th>\n",
       "      <td>130</td>\n",
       "      <td>84</td>\n",
       "    </tr>\n",
       "  </tbody>\n",
       "</table>\n",
       "</div>"
      ],
      "text/plain": [
       "   SBP  DBP\n",
       "0  126   78\n",
       "1  128   80\n",
       "2  128   82\n",
       "3  130   82\n",
       "4  130   84"
      ]
     },
     "execution_count": 1,
     "metadata": {},
     "output_type": "execute_result"
    }
   ],
   "source": [
    "import pandas as pd\n",
    "import numpy as np\n",
    "\n",
    "dataset = {'SBP':[126,128,128,130,130,132],'DBP':[78,80,82,82,84,86]}   #loading the dataset\n",
    "dataset = pd.DataFrame(dataset)\n",
    "d_copy = np.copy(np.array(dataset))\n",
    "dataset.head()"
   ]
  },
  {
   "cell_type": "code",
   "execution_count": 2,
   "metadata": {},
   "outputs": [
    {
     "data": {
      "text/plain": [
       "[129.0, 82.0]"
      ]
     },
     "execution_count": 2,
     "metadata": {},
     "output_type": "execute_result"
    }
   ],
   "source": [
    "clm = list(dataset.columns)     #calculating mean for each column\n",
    "dataset_mean=[]\n",
    "for i in range(dataset.shape[1]):\n",
    "    dataset_mean.append(round((dataset[clm[i]].mean()),2))\n",
    "dataset_mean"
   ]
  },
  {
   "cell_type": "code",
   "execution_count": 3,
   "metadata": {},
   "outputs": [
    {
     "data": {
      "text/html": [
       "<div>\n",
       "<style scoped>\n",
       "    .dataframe tbody tr th:only-of-type {\n",
       "        vertical-align: middle;\n",
       "    }\n",
       "\n",
       "    .dataframe tbody tr th {\n",
       "        vertical-align: top;\n",
       "    }\n",
       "\n",
       "    .dataframe thead th {\n",
       "        text-align: right;\n",
       "    }\n",
       "</style>\n",
       "<table border=\"1\" class=\"dataframe\">\n",
       "  <thead>\n",
       "    <tr style=\"text-align: right;\">\n",
       "      <th></th>\n",
       "      <th>SBP</th>\n",
       "      <th>DBP</th>\n",
       "    </tr>\n",
       "  </thead>\n",
       "  <tbody>\n",
       "    <tr>\n",
       "      <th>0</th>\n",
       "      <td>-3</td>\n",
       "      <td>-4</td>\n",
       "    </tr>\n",
       "    <tr>\n",
       "      <th>1</th>\n",
       "      <td>-1</td>\n",
       "      <td>-2</td>\n",
       "    </tr>\n",
       "    <tr>\n",
       "      <th>2</th>\n",
       "      <td>-1</td>\n",
       "      <td>0</td>\n",
       "    </tr>\n",
       "    <tr>\n",
       "      <th>3</th>\n",
       "      <td>1</td>\n",
       "      <td>0</td>\n",
       "    </tr>\n",
       "    <tr>\n",
       "      <th>4</th>\n",
       "      <td>1</td>\n",
       "      <td>2</td>\n",
       "    </tr>\n",
       "  </tbody>\n",
       "</table>\n",
       "</div>"
      ],
      "text/plain": [
       "   SBP  DBP\n",
       "0   -3   -4\n",
       "1   -1   -2\n",
       "2   -1    0\n",
       "3    1    0\n",
       "4    1    2"
      ]
     },
     "execution_count": 3,
     "metadata": {},
     "output_type": "execute_result"
    }
   ],
   "source": [
    "for i in range(dataset.shape[1]):      #step-1 : centering the values(minus the mean from each cell)\n",
    "    for j in range(dataset.shape[0]):\n",
    "        dataset.iloc[j][i] = dataset.iloc[j][i] - dataset_mean[i]\n",
    "dataset.head()"
   ]
  },
  {
   "cell_type": "code",
   "execution_count": 4,
   "metadata": {},
   "outputs": [
    {
     "data": {
      "text/plain": [
       "array([[4.4, 5.6],\n",
       "       [5.6, 8. ]])"
      ]
     },
     "execution_count": 4,
     "metadata": {},
     "output_type": "execute_result"
    }
   ],
   "source": [
    "covariance = np.cov(dataset.T)    #step-2 : calculating covariance matrix\n",
    "covariance"
   ]
  },
  {
   "cell_type": "code",
   "execution_count": 5,
   "metadata": {},
   "outputs": [
    {
     "name": "stdout",
     "output_type": "stream",
     "text": [
      "Eigun Values are :  [ 0.31782353 12.08217647]\n",
      "Eigun Vectors are :  [[-0.80808699 -0.58906316]\n",
      " [ 0.58906316 -0.80808699]]\n"
     ]
    }
   ],
   "source": [
    "eigen_values, eigen_vectors = np.linalg.eig(covariance)    #step-3,4 : calculating eigun values and eigun vectors\n",
    "print(\"Eigun Values are : \",eigen_values)\n",
    "print(\"Eigun Vectors are : \",eigen_vectors)"
   ]
  },
  {
   "cell_type": "code",
   "execution_count": 6,
   "metadata": {},
   "outputs": [
    {
     "name": "stdout",
     "output_type": "stream",
     "text": [
      "[[-0.58906316 -0.80808699]\n",
      " [-0.80808699  0.58906316]]\n"
     ]
    }
   ],
   "source": [
    "d = np.argsort(np.array(eigen_values))    #step-5 : Ordering the Eigun Vectors\n",
    "d = d[::-1]\n",
    "d_eigenvalues = eigen_values[d]\n",
    "d_eigenvectors = eigen_vectors[:,d]\n",
    "eigen_vector_subset = d_eigenvectors[:,:]\n",
    "print(eigen_vector_subset)"
   ]
  },
  {
   "cell_type": "code",
   "execution_count": 7,
   "metadata": {},
   "outputs": [
    {
     "name": "stdout",
     "output_type": "stream",
     "text": [
      "[[ 4.99953747  0.06800833]\n",
      " [ 2.20523715 -0.37003933]\n",
      " [ 0.58906316  0.80808699]\n",
      " [-0.58906316 -0.80808699]\n",
      " [-2.20523715  0.37003933]\n",
      " [-4.99953747 -0.06800833]]\n"
     ]
    }
   ],
   "source": [
    "fv = np.dot(eigen_vector_subset.T , dataset.T ).T   #step-6 : Calculating the principal component(PC1,PC2)\n",
    "print(fv)"
   ]
  },
  {
   "cell_type": "code",
   "execution_count": 8,
   "metadata": {},
   "outputs": [
    {
     "name": "stdout",
     "output_type": "stream",
     "text": [
      "        PC1       PC2\n",
      "0  4.999537  0.068008\n",
      "1  2.205237 -0.370039\n",
      "2  0.589063  0.808087\n",
      "3 -0.589063 -0.808087\n",
      "4 -2.205237  0.370039\n",
      "5 -4.999537 -0.068008\n",
      "variance for  PC1 is  12.082176467941096\n",
      "variance for  PC2 is  0.3178235320589029\n"
     ]
    }
   ],
   "source": [
    "vari = pd.DataFrame(fv,columns=['PC1','PC2'])\n",
    "print(vari)\n",
    "for i in vari.columns:\n",
    "    print(\"variance for \",i,\"is \",vari[i].var())"
   ]
  },
  {
   "cell_type": "markdown",
   "metadata": {},
   "source": [
    "Since, PC2 has lower value of variance than PC1, we select PC1, as it gives us more values and precise information about our dataset"
   ]
  },
  {
   "cell_type": "markdown",
   "metadata": {},
   "source": [
    "# Conclusion"
   ]
  },
  {
   "cell_type": "markdown",
   "metadata": {},
   "source": [
    "From this practical we can learn to find the optimize value of alpha1 and alpha2 using PCA for which the final output BP is calculated. It can be used to reduce number of variables in your data by extracting important one from large pool and it also simplifies the complexity in high dimensional data while retaining the trends and patterns."
   ]
  },
  {
   "cell_type": "code",
   "execution_count": null,
   "metadata": {},
   "outputs": [],
   "source": []
  }
 ],
 "metadata": {
  "kernelspec": {
   "display_name": "Python 3",
   "language": "python",
   "name": "python3"
  },
  "language_info": {
   "codemirror_mode": {
    "name": "ipython",
    "version": 3
   },
   "file_extension": ".py",
   "mimetype": "text/x-python",
   "name": "python",
   "nbconvert_exporter": "python",
   "pygments_lexer": "ipython3",
   "version": "3.8.5"
  }
 },
 "nbformat": 4,
 "nbformat_minor": 4
}
