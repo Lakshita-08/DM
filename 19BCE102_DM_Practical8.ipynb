{
 "cells": [
  {
   "cell_type": "markdown",
   "metadata": {},
   "source": [
    "# **Roll No : 19BCE102**\n",
    "# **Data Mining - 2CSDE71**"
   ]
  },
  {
   "cell_type": "code",
   "execution_count": 1,
   "metadata": {
    "_cell_guid": "b1076dfc-b9ad-4769-8c92-a6c4dae69d19",
    "_uuid": "8f2839f25d086af736a60e9eeb907d3b93b6e0e5",
    "execution": {
     "iopub.execute_input": "2022-05-05T06:03:13.306975Z",
     "iopub.status.busy": "2022-05-05T06:03:13.306570Z",
     "iopub.status.idle": "2022-05-05T06:03:13.346635Z",
     "shell.execute_reply": "2022-05-05T06:03:13.345590Z",
     "shell.execute_reply.started": "2022-05-05T06:03:13.306837Z"
    }
   },
   "outputs": [],
   "source": [
    "# This Python 3 environment comes with many helpful analytics libraries installed\n",
    "# It is defined by the kaggle/python Docker image: https://github.com/kaggle/docker-python\n",
    "# For example, here's several helpful packages to load\n",
    "\n",
    "import numpy as np # linear algebra\n",
    "import pandas as pd # data processing, CSV file I/O (e.g. pd.read_csv)\n",
    "\n",
    "# Input data files are available in the read-only \"../input/\" directory\n",
    "# For example, running this (by clicking run or pressing Shift+Enter) will list all files under the input directory\n",
    "\n",
    "import os\n",
    "for dirname, _, filenames in os.walk('/kaggle/input'):\n",
    "    for filename in filenames:\n",
    "        print(os.path.join(dirname, filename))\n",
    "\n",
    "# You can write up to 20GB to the current directory (/kaggle/working/) that gets preserved as output when you create a version using \"Save & Run All\" \n",
    "# You can also write temporary files to /kaggle/temp/, but they won't be saved outside of the current session"
   ]
  },
  {
   "cell_type": "code",
   "execution_count": 3,
   "metadata": {
    "execution": {
     "iopub.execute_input": "2022-05-05T06:03:51.402774Z",
     "iopub.status.busy": "2022-05-05T06:03:51.402514Z",
     "iopub.status.idle": "2022-05-05T06:03:51.418514Z",
     "shell.execute_reply": "2022-05-05T06:03:51.417867Z",
     "shell.execute_reply.started": "2022-05-05T06:03:51.402746Z"
    }
   },
   "outputs": [],
   "source": [
    "import matplotlib.pyplot as plt\n",
    "data = pd.read_csv(\"/kaggle/input/mall-customers/Mall_Customers.csv\")"
   ]
  },
  {
   "cell_type": "code",
   "execution_count": 4,
   "metadata": {
    "execution": {
     "iopub.execute_input": "2022-05-05T06:04:04.452919Z",
     "iopub.status.busy": "2022-05-05T06:04:04.452360Z",
     "iopub.status.idle": "2022-05-05T06:04:04.473207Z",
     "shell.execute_reply": "2022-05-05T06:04:04.472436Z",
     "shell.execute_reply.started": "2022-05-05T06:04:04.452875Z"
    }
   },
   "outputs": [],
   "source": [
    "data.head()"
   ]
  },
  {
   "cell_type": "code",
   "execution_count": 5,
   "metadata": {
    "execution": {
     "iopub.execute_input": "2022-05-05T06:04:32.283776Z",
     "iopub.status.busy": "2022-05-05T06:04:32.283472Z",
     "iopub.status.idle": "2022-05-05T06:04:32.288921Z",
     "shell.execute_reply": "2022-05-05T06:04:32.288110Z",
     "shell.execute_reply.started": "2022-05-05T06:04:32.283741Z"
    }
   },
   "outputs": [],
   "source": [
    "print(\"Dataset shape:\", data.shape)"
   ]
  },
  {
   "cell_type": "code",
   "execution_count": 6,
   "metadata": {
    "execution": {
     "iopub.execute_input": "2022-05-05T06:04:37.647088Z",
     "iopub.status.busy": "2022-05-05T06:04:37.646789Z",
     "iopub.status.idle": "2022-05-05T06:04:37.654621Z",
     "shell.execute_reply": "2022-05-05T06:04:37.654022Z",
     "shell.execute_reply.started": "2022-05-05T06:04:37.647055Z"
    }
   },
   "outputs": [],
   "source": [
    "data.isnull().any().any()"
   ]
  },
  {
   "cell_type": "code",
   "execution_count": 7,
   "metadata": {
    "execution": {
     "iopub.execute_input": "2022-05-05T06:04:49.458037Z",
     "iopub.status.busy": "2022-05-05T06:04:49.457708Z",
     "iopub.status.idle": "2022-05-05T06:04:49.469287Z",
     "shell.execute_reply": "2022-05-05T06:04:49.468411Z",
     "shell.execute_reply.started": "2022-05-05T06:04:49.457998Z"
    }
   },
   "outputs": [],
   "source": [
    "x = data.loc[:, ['Annual Income (k$)','Spending Score (1-100)']].values"
   ]
  },
  {
   "cell_type": "code",
   "execution_count": 9,
   "metadata": {
    "execution": {
     "iopub.execute_input": "2022-05-05T06:07:57.007976Z",
     "iopub.status.busy": "2022-05-05T06:07:57.007440Z",
     "iopub.status.idle": "2022-05-05T06:07:58.207230Z",
     "shell.execute_reply": "2022-05-05T06:07:58.206144Z",
     "shell.execute_reply.started": "2022-05-05T06:07:57.007924Z"
    }
   },
   "outputs": [],
   "source": [
    "from sklearn.neighbors import NearestNeighbors # importing the library\n",
    "neighb = NearestNeighbors(n_neighbors=2) # creating an object of the NearestNeighbors class\n",
    "nbrs=neighb.fit(x) # fitting the data to the object\n",
    "distances,indices=nbrs.kneighbors(x) # finding the nearest neighbours"
   ]
  },
  {
   "cell_type": "code",
   "execution_count": 10,
   "metadata": {
    "execution": {
     "iopub.execute_input": "2022-05-05T06:21:18.010510Z",
     "iopub.status.busy": "2022-05-05T06:21:18.010198Z",
     "iopub.status.idle": "2022-05-05T06:21:18.232395Z",
     "shell.execute_reply": "2022-05-05T06:21:18.231473Z",
     "shell.execute_reply.started": "2022-05-05T06:21:18.010475Z"
    }
   },
   "outputs": [],
   "source": [
    "# Sort and plot the distances results\n",
    "distances = np.sort(distances, axis = 0) # sorting the distances\n",
    "distances = distances[:, 1] # taking the second column of the sorted distances\n",
    "plt.rcParams['figure.figsize'] = (5,3) # setting the figure size\n",
    "plt.plot(distances) # plotting the distances\n",
    "plt.show() # showing the plot"
   ]
  },
  {
   "cell_type": "code",
   "execution_count": 11,
   "metadata": {
    "execution": {
     "iopub.execute_input": "2022-05-05T06:21:39.841036Z",
     "iopub.status.busy": "2022-05-05T06:21:39.840739Z",
     "iopub.status.idle": "2022-05-05T06:21:39.931680Z",
     "shell.execute_reply": "2022-05-05T06:21:39.930949Z",
     "shell.execute_reply.started": "2022-05-05T06:21:39.841002Z"
    }
   },
   "outputs": [],
   "source": [
    "from sklearn.cluster import DBSCAN\n",
    "# cluster the data into five clusters\n",
    "dbscan = DBSCAN(eps = 2, min_samples = 3).fit(x) # fitting the model\n",
    "labels = dbscan.labels_ # getting the labels"
   ]
  },
  {
   "cell_type": "code",
   "execution_count": 13,
   "metadata": {
    "execution": {
     "iopub.execute_input": "2022-05-05T06:21:50.163209Z",
     "iopub.status.busy": "2022-05-05T06:21:50.162441Z",
     "iopub.status.idle": "2022-05-05T06:21:50.300573Z",
     "shell.execute_reply": "2022-05-05T06:21:50.299465Z",
     "shell.execute_reply.started": "2022-05-05T06:21:50.163164Z"
    }
   },
   "outputs": [],
   "source": [
    "# Plot the clusters\n",
    "plt.scatter(x[:, 0], x[:,1], c = labels, cmap= \"plasma\") # plotting the clusters\n",
    "plt.xlabel(\"Income\") # X-axis label\n",
    "plt.ylabel(\"Spending Score\") # Y-axis label\n",
    "plt.show() # showing the plot"
   ]
  }
 ],
 "metadata": {
  "kernelspec": {
   "display_name": "Python 3 (ipykernel)",
   "language": "python",
   "name": "python3"
  },
  "language_info": {
   "codemirror_mode": {
    "name": "ipython",
    "version": 3
   },
   "file_extension": ".py",
   "mimetype": "text/x-python",
   "name": "python",
   "nbconvert_exporter": "python",
   "pygments_lexer": "ipython3",
   "version": "3.7.12"
  }
 },
 "nbformat": 4,
 "nbformat_minor": 4
}
