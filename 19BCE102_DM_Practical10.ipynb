{
 "cells": [
  {
   "cell_type": "markdown",
   "metadata": {
    "id": "H2vGvtwA-OZp"
   },
   "source": [
    "# **Roll No : 19BCE102**\n",
    "# **Data Mining - 2CSDE71**"
   ]
  },
  {
   "cell_type": "markdown",
   "metadata": {
    "id": "tRC9i9uAW3PB"
   },
   "source": [
    "# Practical-10 Naive Bayes Classification"
   ]
  },
  {
   "cell_type": "code",
   "execution_count": 9,
   "metadata": {
    "id": "eL1KsGIo9xbY"
   },
   "outputs": [],
   "source": [
    "data = [\n",
    "    [[\"Chinese\", \"Beijing\", \"Chinese\"], True],\n",
    "    [[\"Chinese\", \"Chinese\", \"Shanghai\"], True],\n",
    "    [[\"Chinese\", \"Macao\"], True],\n",
    "    [[\"Tokyo\", \"Japan\", \"Chinese\"], False],\n",
    "]\n",
    "\n",
    "test_document = [\"Chinese\", \"Chinese\", \"Chinese\", \"Tokyo\", \"Japan\"]\n"
   ]
  },
  {
   "cell_type": "code",
   "execution_count": 10,
   "metadata": {
    "colab": {
     "base_uri": "https://localhost:8080/",
     "height": 0
    },
    "id": "181E925U9xbb",
    "outputId": "6b0c3c1b-8441-4de3-807a-fd14b63a211e"
   },
   "outputs": [
    {
     "name": "stdout",
     "output_type": "stream",
     "text": [
      "['Beijing', 'Chinese', 'Japan', 'Macao', 'Shanghai', 'Tokyo']\n",
      "['Chinese', 'Tokyo', 'Japan']\n",
      "P(c): 0.75 and P(c'): 0.25\n"
     ]
    }
   ],
   "source": [
    "data_unique_words = []\n",
    "priors_count = 0\n",
    "\n",
    "for i in data:\n",
    "    if i[1]:\n",
    "        priors_count += 1\n",
    "    for q in i[0]:\n",
    "        if q not in data_unique_words:\n",
    "            data_unique_words.append(q)\n",
    "\n",
    "data_unique_words = sorted(data_unique_words)\n",
    "print(data_unique_words)\n",
    "\n",
    "test_document_unique = list(set(test_document))\n",
    "print(test_document_unique)\n",
    "\n",
    "p_c = priors_count / len(data)\n",
    "p_c_bar = (len(data) - priors_count) / len(data)\n",
    "\n",
    "print(f\"P(c): {p_c} and P(c'): {p_c_bar}\")\n"
   ]
  },
  {
   "cell_type": "code",
   "execution_count": 11,
   "metadata": {
    "colab": {
     "base_uri": "https://localhost:8080/",
     "height": 0
    },
    "id": "PzHRx1pb9xbe",
    "outputId": "3b2f0e28-ce38-4cfc-c934-a0c85fb8f49a"
   },
   "outputs": [
    {
     "name": "stdout",
     "output_type": "stream",
     "text": [
      "P(Chinese)|c: 0.42857142857142855\n",
      "P(Tokyo)|c: 0.07142857142857142\n",
      "P(Japan)|c: 0.07142857142857142\n"
     ]
    }
   ],
   "source": [
    "p_test_c = []\n",
    "for i in test_document_unique:\n",
    "    word_count = 0\n",
    "    total_words = 0\n",
    "    for j in data:\n",
    "        if j[1]:\n",
    "            word_count += j[0].count(i)\n",
    "            total_words += len(j[0])\n",
    "\n",
    "    p_i_c = (word_count + 1) / (total_words + len(data_unique_words))\n",
    "    print(f\"P({i})|c: {p_i_c}\")\n",
    "    p_test_c.append(p_i_c)"
   ]
  },
  {
   "cell_type": "code",
   "execution_count": 12,
   "metadata": {
    "colab": {
     "base_uri": "https://localhost:8080/",
     "height": 0
    },
    "id": "4dwHHK2p9xbg",
    "outputId": "6ebf0c41-b3e3-4fc3-8abc-e63023803a55"
   },
   "outputs": [
    {
     "name": "stdout",
     "output_type": "stream",
     "text": [
      "P(Chinese)|c': 0.2222222222222222\n",
      "P(Tokyo)|c': 0.2222222222222222\n",
      "P(Japan)|c': 0.2222222222222222\n"
     ]
    }
   ],
   "source": [
    "p_test_c_bar = []\n",
    "for i in test_document_unique:\n",
    "    word_count = 0\n",
    "    total_words = 0\n",
    "    for j in data:\n",
    "        if not j[1]:\n",
    "            word_count += j[0].count(i)\n",
    "            total_words += len(j[0])\n",
    "\n",
    "    p_i_c_bar = (word_count + 1) / (total_words + len(data_unique_words))\n",
    "    print(f\"P({i})|c': {p_i_c_bar}\")\n",
    "    p_test_c_bar.append(p_i_c_bar)"
   ]
  },
  {
   "cell_type": "code",
   "execution_count": 13,
   "metadata": {
    "colab": {
     "base_uri": "https://localhost:8080/",
     "height": 0
    },
    "id": "E5zlX7ls9xbh",
    "outputId": "bf178cc3-2b0e-4681-85b9-f5cc4ec25608"
   },
   "outputs": [
    {
     "name": "stdout",
     "output_type": "stream",
     "text": [
      "P(c|test_document): 0.00030121377997263036\n"
     ]
    }
   ],
   "source": [
    "p_c_test = 1\n",
    "for i in test_document:\n",
    "    index = test_document_unique.index(i)\n",
    "    p_c_test *= p_test_c[index]\n",
    "\n",
    "p_c_test *= p_c\n",
    "\n",
    "print(f\"P(c|test_document): {p_c_test}\")"
   ]
  },
  {
   "cell_type": "code",
   "execution_count": 14,
   "metadata": {
    "colab": {
     "base_uri": "https://localhost:8080/",
     "height": 0
    },
    "id": "6eEbGBdW9xbi",
    "outputId": "280f8cc1-6d40-4c90-95a1-b89524659a15"
   },
   "outputs": [
    {
     "name": "stdout",
     "output_type": "stream",
     "text": [
      "P(c'|test_document): 0.00013548070246744226\n"
     ]
    }
   ],
   "source": [
    "p_c_bar_test = 1\n",
    "for i in test_document:\n",
    "    index = test_document_unique.index(i)\n",
    "    p_c_bar_test *= p_test_c_bar[index]\n",
    "\n",
    "p_c_bar_test *= p_c_bar\n",
    "\n",
    "print(f\"P(c'|test_document): {p_c_bar_test}\")"
   ]
  },
  {
   "cell_type": "markdown",
   "metadata": {
    "id": "E1xeeB3XWyLW"
   },
   "source": [
    "## **CONCLUSION**\n",
    "The Naive Bayes classification algorithm is a probabilistic classifier. It is based on probability models that incorporate strong independence assumptions. It uses conditional probabilty concepts."
   ]
  }
 ],
 "metadata": {
  "colab": {
   "collapsed_sections": [],
   "name": "19BCE257_Practical_10.ipynb",
   "provenance": []
  },
  "interpreter": {
   "hash": "9ebda5539aea11a99b263636c55d3fa16078281d4358be81d14e9f778e963a27"
  },
  "kernelspec": {
   "display_name": "Python 3 (ipykernel)",
   "language": "python",
   "name": "python3"
  },
  "language_info": {
   "codemirror_mode": {
    "name": "ipython",
    "version": 3
   },
   "file_extension": ".py",
   "mimetype": "text/x-python",
   "name": "python",
   "nbconvert_exporter": "python",
   "pygments_lexer": "ipython3",
   "version": "3.10.4"
  }
 },
 "nbformat": 4,
 "nbformat_minor": 1
}
